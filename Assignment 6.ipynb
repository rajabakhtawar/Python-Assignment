{
 "cells": [
  {
   "cell_type": "markdown",
   "metadata": {},
   "source": [
    "# Question 1 "
   ]
  },
  {
   "cell_type": "code",
   "execution_count": 4,
   "metadata": {},
   "outputs": [
    {
     "name": "stdout",
     "output_type": "stream",
     "text": [
      "Object oriented programming language is the effective way to writing software.It includes the situations,attributes and you create the object based on these classes.  \n"
     ]
    }
   ],
   "source": [
    "print(\"Object oriented programming language is the effective way to writing software.It includes the situations,attributes and you create the object based on these classes.  \")"
   ]
  },
  {
   "cell_type": "markdown",
   "metadata": {},
   "source": [
    "# Question 2"
   ]
  },
  {
   "cell_type": "code",
   "execution_count": 7,
   "metadata": {},
   "outputs": [
    {
     "name": "stdout",
     "output_type": "stream",
     "text": [
      "Objects can also be reused within an across applications.\n",
      "It makes easy for correcting after.\n",
      "It helps you to do faster work\n"
     ]
    }
   ],
   "source": [
    "print(\"Objects can also be reused within an across applications.\")\n",
    "print(\"It makes easy for correcting after.\")\n",
    "print(\"It helps you to do faster work\")"
   ]
  },
  {
   "cell_type": "markdown",
   "metadata": {},
   "source": [
    "# Question 3 "
   ]
  },
  {
   "cell_type": "code",
   "execution_count": 8,
   "metadata": {},
   "outputs": [
    {
     "name": "stdout",
     "output_type": "stream",
     "text": [
      "class is a function of attribues and functions. object is inheritance of a class attributes are the variables your class have like model name etc behaviour is the way the object can do anything\n"
     ]
    }
   ],
   "source": [
    "print(\"Function describes the behaviour of the modelthey donot have any varable. methods are called by variables\")"
   ]
  },
  {
   "cell_type": "markdown",
   "metadata": {},
   "source": [
    "# Question 4 "
   ]
  },
  {
   "cell_type": "code",
   "execution_count": 10,
   "metadata": {},
   "outputs": [
    {
     "name": "stdout",
     "output_type": "stream",
     "text": [
      "Class is a function of attribues and functions. object is inheritance of a class attributes are the variables your class have like model name etc behaviour is the way the object can do anything\n"
     ]
    }
   ],
   "source": [
    "print(\"Class is a function of attribues and functions. object is inheritance of a class attributes are the variables your class have like model name etc behaviour is the way the object can do anything\")"
   ]
  },
  {
   "cell_type": "markdown",
   "metadata": {},
   "source": [
    "# Question 5 "
   ]
  },
  {
   "cell_type": "code",
   "execution_count": 11,
   "metadata": {},
   "outputs": [],
   "source": [
    "class Car():\n",
    "    def __init__(self, name,colour,year,company,miles):\n",
    "        self.name = name\n",
    "        self.colour=colour\n",
    "        self.year = year\n",
    "        self.company = company\n",
    "        self.miles = miles\n",
    "    def description(self):\n",
    "        full_name= f\"The name of car is {self.company} {self.name} {self.year}\"\n",
    "        return full_name\n",
    "    def color(self):\n",
    "        print (f\"The colour of the car is {self.colour}\")\n",
    "    def read_odometer(self):\n",
    "        print (f\"The car has reached  {self.miles} miles\")"
   ]
  },
  {
   "cell_type": "code",
   "execution_count": 12,
   "metadata": {},
   "outputs": [],
   "source": [
    "Car = Car('Prado','Black',2019,'Toyota',32000)"
   ]
  },
  {
   "cell_type": "code",
   "execution_count": 13,
   "metadata": {},
   "outputs": [
    {
     "data": {
      "text/plain": [
       "'the name of car is toyota Prado 2019'"
      ]
     },
     "execution_count": 13,
     "metadata": {},
     "output_type": "execute_result"
    }
   ],
   "source": [
    "Car.description()"
   ]
  },
  {
   "cell_type": "code",
   "execution_count": 14,
   "metadata": {},
   "outputs": [
    {
     "name": "stdout",
     "output_type": "stream",
     "text": [
      "the car has run  32000 miles\n"
     ]
    }
   ],
   "source": [
    "Car.read_odometer()"
   ]
  },
  {
   "cell_type": "code",
   "execution_count": 15,
   "metadata": {},
   "outputs": [
    {
     "name": "stdout",
     "output_type": "stream",
     "text": [
      "The colour of the car is Black\n"
     ]
    }
   ],
   "source": [
    "Car.color()"
   ]
  },
  {
   "cell_type": "code",
   "execution_count": null,
   "metadata": {},
   "outputs": [],
   "source": []
  }
 ],
 "metadata": {
  "kernelspec": {
   "display_name": "Python 3",
   "language": "python",
   "name": "python3"
  },
  "language_info": {
   "codemirror_mode": {
    "name": "ipython",
    "version": 3
   },
   "file_extension": ".py",
   "mimetype": "text/x-python",
   "name": "python",
   "nbconvert_exporter": "python",
   "pygments_lexer": "ipython3",
   "version": "3.7.1"
  }
 },
 "nbformat": 4,
 "nbformat_minor": 2
}
