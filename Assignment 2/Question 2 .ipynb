{
 "cells": [
  {
   "cell_type": "code",
   "execution_count": 3,
   "metadata": {},
   "outputs": [
    {
     "name": "stdout",
     "output_type": "stream",
     "text": [
      "Enter Your Number = 99\n",
      "Odd\n"
     ]
    }
   ],
   "source": [
    "x=int(input(\"Enter Your Number = \"))\n",
    "y=2 \n",
    "z=x % y\n",
    "if z == 0 :\n",
    "    print(\"even\")\n",
    "elif z == 1 : \n",
    "    print(\"Odd\")\n",
    "else :\n",
    "    print(\"YOUR NUMBER IS NOT EVEN NOR ODD\")\n"
   ]
  },
  {
   "cell_type": "code",
   "execution_count": null,
   "metadata": {},
   "outputs": [],
   "source": []
  },
  {
   "cell_type": "code",
   "execution_count": null,
   "metadata": {},
   "outputs": [],
   "source": []
  }
 ],
 "metadata": {
  "kernelspec": {
   "display_name": "Python 3",
   "language": "python",
   "name": "python3"
  },
  "language_info": {
   "codemirror_mode": {
    "name": "ipython",
    "version": 3
   },
   "file_extension": ".py",
   "mimetype": "text/x-python",
   "name": "python",
   "nbconvert_exporter": "python",
   "pygments_lexer": "ipython3",
   "version": "3.7.1"
  }
 },
 "nbformat": 4,
 "nbformat_minor": 2
}
