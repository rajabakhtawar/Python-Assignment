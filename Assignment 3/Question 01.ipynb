{
 "cells": [
  {
   "cell_type": "markdown",
   "metadata": {},
   "source": [
    "# Question no 01"
   ]
  },
  {
   "cell_type": "code",
   "execution_count": 1,
   "metadata": {},
   "outputs": [
    {
     "name": "stdout",
     "output_type": "stream",
     "text": [
      "Enter 1st value = 10\n",
      "Enter 2nd Value = 20\n",
      "Enter your operator*\n",
      "200 answer\n"
     ]
    }
   ],
   "source": [
    "a=int(input(\"Enter 1st value = \"))\n",
    "b=int(input(\"Enter 2nd Value = \"))\n",
    "c=input(\"Enter your operator\")\n",
    "if c == '+':\n",
    "    d=a + b \n",
    "    print(d, 'answer')\n",
    "elif c == \"-\": \n",
    "    d=a - b \n",
    "    print(d, 'answer')\n",
    "elif c== \"*\":\n",
    "    d=a * b \n",
    "    print(d,'answer')\n",
    "elif c == \"/\":\n",
    "    d=a // b \n",
    "    print(d, 'answer')\n",
    "elif c== '**':\n",
    "    d=a ** b \n",
    "    print(d, 'answer')\n",
    "else:\n",
    "    print('Enter the correct operator') \n",
    "    \n",
    "    \n",
    "    "
   ]
  },
  {
   "cell_type": "code",
   "execution_count": null,
   "metadata": {},
   "outputs": [],
   "source": []
  }
 ],
 "metadata": {
  "kernelspec": {
   "display_name": "Python 3",
   "language": "python",
   "name": "python3"
  },
  "language_info": {
   "codemirror_mode": {
    "name": "ipython",
    "version": 3
   },
   "file_extension": ".py",
   "mimetype": "text/x-python",
   "name": "python",
   "nbconvert_exporter": "python",
   "pygments_lexer": "ipython3",
   "version": "3.7.1"
  }
 },
 "nbformat": 4,
 "nbformat_minor": 2
}
