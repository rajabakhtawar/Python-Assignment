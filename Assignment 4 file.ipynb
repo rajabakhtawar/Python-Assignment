{
 "cells": [
  {
   "cell_type": "markdown",
   "metadata": {},
   "source": [
    "# Assignment # 4"
   ]
  },
  {
   "cell_type": "markdown",
   "metadata": {},
   "source": [
    "# Question 1"
   ]
  },
  {
   "cell_type": "code",
   "execution_count": 1,
   "metadata": {},
   "outputs": [
    {
     "name": "stdout",
     "output_type": "stream",
     "text": [
      "Below mentioned existing dictionary\n",
      "-----------------------------------------\n",
      "\n",
      "first_name : Ahmed\n",
      "last_name : Ali\n",
      "age : 18\n",
      "city : karachi\n",
      "\n",
      "Added new key with value in dictionary from update function\n",
      "-----------------------------------------\n",
      "first_name : Ahmed\n",
      "last_name : Ali\n",
      "age : 18\n",
      "city : karachi\n",
      "qualification : intermedaite\n",
      "\n",
      "Updating the value of qualification key in dictionary\n",
      "-----------------------------------------\n",
      "\n",
      "Currently the value of qualification is intermedaite\n",
      "\n",
      "\t HERE IS THE UPDATED DICTIONARY WITH UPDATED VALUES OF QUALIFICATION.\n",
      "\n",
      "first_name : Ahmed\n",
      "last_name : Ali\n",
      "age : 18\n",
      "city : karachi\n",
      "qualification : B.COM\n",
      "\n",
      "\t DELETED THE KEY OF QUALIFICATION AND BELOW MENTIONED\n",
      "\n",
      "first_name : Ahmed\n",
      "last_name : Ali\n",
      "age : 18\n",
      "city : karachi\n"
     ]
    }
   ],
   "source": [
    "persons ={\n",
    "    \n",
    "    \"first_name\":\"Ahmed\",\n",
    "    \"last_name\":\"Ali\",\n",
    "    \"age\":\"18\",\n",
    "    \"city\":\"karachi\"\n",
    "}\n",
    "\n",
    "def print_dic_values_and_key(dicti_name):\n",
    "    for keys,values in dicti_name.items():\n",
    "        print(keys + \" : \" +values)\n",
    "# Printing type for check type of data \n",
    "#print(type(person))\n",
    "print(\"Below mentioned existing dictionary\\n-----------------------------------------\\n\")  \n",
    "print_dic_values_and_key(persons)  \n",
    "print(\"\\nAdded new key with value in dictionary from update function\\n-----------------------------------------\")\n",
    "persons.update({\"qualification\":\"intermedaite\"})\n",
    "print_dic_values_and_key(persons) \n",
    "print(\"\\nUpdating the value of qualification key in dictionary\\n-----------------------------------------\\n\")\n",
    "print(\"Currently the value of qualification is \"+  persons['qualification'])\n",
    "persons['qualification'] = \"B.COM\"\n",
    "print(\"\\n\\t HERE IS THE UPDATED DICTIONARY WITH UPDATED VALUES OF QUALIFICATION.\\n\")\n",
    "print_dic_values_and_key(persons) \n",
    "del persons['qualification']\n",
    "\n",
    "print(\"\\n\\t DELETED THE KEY OF QUALIFICATION AND BELOW MENTIONED\\n\")\n",
    "\n",
    "print_dic_values_and_key(persons)"
   ]
  },
  {
   "cell_type": "markdown",
   "metadata": {},
   "source": [
    "# Question 2"
   ]
  },
  {
   "cell_type": "code",
   "execution_count": 2,
   "metadata": {},
   "outputs": [
    {
     "name": "stdout",
     "output_type": "stream",
     "text": [
      "Currently we have 3 cities database which is below mentioned \n",
      "\n",
      "Islamabad\n",
      "Karachi\n",
      "Lahore\n",
      "\n",
      "Enter above mentioned city name to fetch data from  Islamabad\n",
      "Islamabad : {'country': 'Pakistan', 'population': '1.015 million', 'fact': 'Islamabad is the beautiful city name in the World.', 'Most Visited': '20.05 million'}\n"
     ]
    }
   ],
   "source": [
    "cities = {\n",
    "    \"Islamabad\": {\n",
    "        \"country\":\"Pakistan\",\n",
    "        \"population\": \"1.015 million\",\n",
    "        \"fact\": \"Islamabad is the beautiful city name in the World.\",\n",
    "        \"Most Visited\":\"20.05 million\"\n",
    "        },\n",
    "    \n",
    "    \"Karachi\": {\n",
    "        \"country\":\"Pakistan\",\n",
    "        \"population\": \"14.91 million\",\n",
    "        \"fact\": \"Famous for the Food\",\n",
    "        \"Most Visited\":\"50.78 million\"\n",
    "        },\n",
    "    \n",
    "    \"Lahore\": {\n",
    "        \"country\":\"Pakistan\",\n",
    "        \"population\": \"11.13 million\",\n",
    "        \"fact\": \"Lahore is famous for its amazing sights\",\n",
    "        \"Most Visited\":\"45 million\"\n",
    "        \n",
    "        }\n",
    "}\n",
    "print(\"Currently we have 3 cities database which is below mentioned \\n\")\n",
    "for cities_name in cities.keys():\n",
    "    print(cities_name)\n",
    "city =input(\"\\nEnter above mentioned city name to fetch data from  \")\n",
    "flag = False\n",
    "for city_key,city_val in cities.items():\n",
    "    if city_key == city:\n",
    "        flag = True\n",
    "        break\n",
    "if(flag):\n",
    "    print(str(city_key) + \" : \" + str(city_val) )\n",
    "else:\n",
    "    print(\"Right Now we dont have that country.\")"
   ]
  },
  {
   "cell_type": "markdown",
   "metadata": {},
   "source": [
    "# Question 3"
   ]
  },
  {
   "cell_type": "code",
   "execution_count": 3,
   "metadata": {},
   "outputs": [
    {
     "name": "stdout",
     "output_type": "stream",
     "text": [
      "Welcome to online ticket booking system\n",
      "--------------------------------\n",
      "\n",
      "We have different prices of tickets according your age\n",
      "\n",
      "How many persons = 1\n",
      "\n",
      "We charge ticket cost according the age\n",
      "\n",
      "\n",
      "Please Enter Age 25\n",
      "We charged more than 12 years old the ticket cost is 12$\n",
      "\n",
      "------------------------------------------\n",
      "Your Total Cost of Tickets is 12$\n"
     ]
    }
   ],
   "source": [
    "print(\"Welcome to online ticket booking system\\n--------------------------------\\n\\nWe have different prices of tickets according your age\")\n",
    "\n",
    "persons_number =int(input(\"\\nHow many persons = \"))\n",
    "\n",
    "\n",
    "print(\"\\nWe charge ticket cost according the age\\n\")\n",
    "total_price = 0\n",
    "for i in range(1,persons_number+1):\n",
    "    age = int(input(\"\\nPlease Enter Age \"))\n",
    "    if age <= 3 and persons_number != 1:\n",
    "        print(\" \\nWe don't charge for below 3 years old.\")\n",
    "    elif age <= 3 and persons_number == 1:\n",
    "        print(\" \\nWe don't allow alone kid on cinema.\")    \n",
    "    elif age <= 12 and age >= 3:\n",
    "        print(\"We charged more than 3 years old and below 12 years old the ticket cost is 10$\")\n",
    "        total_price +=10\n",
    "                \n",
    "    elif age >= 12:\n",
    "        print(\"We charged more than 12 years old the ticket cost is 12$\")\n",
    "        total_price +=12\n",
    "        \n",
    "print(\"\\n------------------------------------------\\nYour Total Cost of Tickets is \" + str(total_price)+\"$\")"
   ]
  },
  {
   "cell_type": "markdown",
   "metadata": {},
   "source": [
    "# Question 4"
   ]
  },
  {
   "cell_type": "code",
   "execution_count": 4,
   "metadata": {},
   "outputs": [
    {
     "name": "stdout",
     "output_type": "stream",
     "text": [
      "Welcome to Read Online Books\n",
      "--------------------------------------------\n",
      "\n",
      "Enter Your Book Name = Jawab e shikwa\n",
      "\n",
      "Thanks for your input here is the details of your provided book name\n",
      "----------------------------------------------\n",
      "\n",
      "Jawab e shikwa {'Author': 'Allam Iqbal', 'Publisher': 'Sang-e-meel Publications', 'Publication date': '10 February 1913.', 'Total Pages ': '120'}\n"
     ]
    }
   ],
   "source": [
    "print(\"Welcome to Read Online Books\\n--------------------------------------------\\n\")\n",
    "book_details = {\n",
    "    \"Jawab e shikwa\": \n",
    "    {\n",
    "        \"Author\":\"Allam Iqbal\",\n",
    "        \"Publisher\": \"Sang-e-meel Publications\",\n",
    "        \"Publication date\": \"10 February 1913.\",\n",
    "        \"Total Pages \":\"120\"\n",
    "    },\n",
    "    \"Aur drame\": \n",
    "    {\n",
    "        \"Author\":\"Ashfaq ahmed\",\n",
    "        \"Publisher\": \"Ali Publishers\",\n",
    "        \"Publication date\": \"1993\",\n",
    "        \"Total Pages \":\"452\"\n",
    "    },\n",
    "    \"The Old Man and the Sea\": \n",
    "    {\n",
    "        \"Author\":\"Ernest Hemingway\",\n",
    "        \"Publisher\": \"Olympia Press\",\n",
    "        \"Publication date\": \"1952\",\n",
    "        \"Total Pages \":\"127\"\n",
    "        \n",
    "    }\n",
    "}\n",
    "input_book_name = input(\"Enter Your Book Name = \")\n",
    "\n",
    "def find_book(input_book_name):\n",
    "    flag = False \n",
    "    for book_key,book_values in book_details.items():\n",
    "        if book_key == input_book_name:\n",
    "            flag =  True\n",
    "            break\n",
    "    if(flag):            \n",
    "        print(\"\\nThanks for your input here is the details of your provided book name\\n----------------------------------------------\\n\")\n",
    "        print(str(book_key) + \" \" + str(book_values) )\n",
    "    else:\n",
    "        print(\"Thanks for your input but \"+ input_book_name +\" not available on store\")    \n",
    "    \n",
    "            \n",
    "find_book(input_book_name)"
   ]
  },
  {
   "cell_type": "markdown",
   "metadata": {},
   "source": [
    "# Question 5"
   ]
  },
  {
   "cell_type": "code",
   "execution_count": 5,
   "metadata": {},
   "outputs": [
    {
     "name": "stdout",
     "output_type": "stream",
     "text": [
      "WELCOME HERE TO CHECK YOUR LUCK\n",
      "Enter One Number which is between 1 to 30 40\n",
      "Your input is wrong and the random number was 25\n",
      "Enter One Number which is between 1 to 30 10\n",
      "Your input is wrong and the random number was 1\n",
      "Enter One Number which is between 1 to 30 20\n",
      "Your input is wrong and the random number was 3\n",
      "Your total score is 0\n"
     ]
    }
   ],
   "source": [
    "import random \n",
    "print(\"WELCOME HERE TO CHECK YOUR LUCK\")\n",
    "total_score = 0\n",
    "Flag = False\n",
    "for x in range(0,3):\n",
    "    number = random.randint(1, 30)\n",
    "    user_number =input(\"Enter One Number which is between 1 to 30 \")\n",
    "    if  str(user_number) == str(number):\n",
    "        total_score += 10\n",
    "        Flag = True\n",
    "    if(Flag):\n",
    "        print(\"Random Number is generated \" + str(number) + \" and Your number is \"+ str(user_number))\n",
    "        \n",
    "    else:\n",
    "        print(\"Your input is wrong and the random number was \" + str(number))\n",
    "print(\"Your total score is \" + str(total_score))\n"
   ]
  },
  {
   "cell_type": "code",
   "execution_count": null,
   "metadata": {},
   "outputs": [],
   "source": []
  }
 ],
 "metadata": {
  "kernelspec": {
   "display_name": "Python 3",
   "language": "python",
   "name": "python3"
  },
  "language_info": {
   "codemirror_mode": {
    "name": "ipython",
    "version": 3
   },
   "file_extension": ".py",
   "mimetype": "text/x-python",
   "name": "python",
   "nbconvert_exporter": "python",
   "pygments_lexer": "ipython3",
   "version": "3.7.1"
  }
 },
 "nbformat": 4,
 "nbformat_minor": 2
}
