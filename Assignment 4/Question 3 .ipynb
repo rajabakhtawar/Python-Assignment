{
 "cells": [
  {
   "cell_type": "markdown",
   "metadata": {},
   "source": [
    "# Question 3 "
   ]
  },
  {
   "cell_type": "code",
   "execution_count": 1,
   "metadata": {},
   "outputs": [
    {
     "name": "stdout",
     "output_type": "stream",
     "text": [
      "Welcome to online ticket booking system\n",
      "--------------------------------\n",
      "\n",
      "We have different prices of tickets according your age\n",
      "\n",
      "How many persons = 2\n",
      "\n",
      "We charge ticket cost according the age\n",
      "\n",
      "\n",
      "Please Enter Age 25\n",
      "We charged more than 12 years old the ticket cost is 12$\n",
      "\n",
      "Please Enter Age 30\n",
      "We charged more than 12 years old the ticket cost is 12$\n",
      "\n",
      "------------------------------------------\n",
      "Your Total Cost of Tickets is 24$\n"
     ]
    }
   ],
   "source": [
    "print(\"Welcome to online ticket booking system\\n--------------------------------\\n\\nWe have different prices of tickets according your age\")\n",
    "\n",
    "persons_number =int(input(\"\\nHow many persons = \"))\n",
    "\n",
    "\n",
    "print(\"\\nWe charge ticket cost according the age\\n\")\n",
    "total_price = 0\n",
    "for i in range(1,persons_number+1):\n",
    "    age = int(input(\"\\nPlease Enter Age \"))\n",
    "    if age <= 3 and persons_number != 1:\n",
    "        print(\" \\nWe don't charge for below 3 years old.\")\n",
    "    elif age <= 3 and persons_number == 1:\n",
    "        print(\" \\nWe don't allow alone kid on cinema.\")    \n",
    "    elif age <= 12 and age >= 3:\n",
    "        print(\"We charged more than 3 years old and below 12 years old the ticket cost is 10$\")\n",
    "        total_price +=10\n",
    "                \n",
    "    elif age >= 12:\n",
    "        print(\"We charged more than 12 years old the ticket cost is 12$\")\n",
    "        total_price +=12\n",
    "        \n",
    "print(\"\\n------------------------------------------\\nYour Total Cost of Tickets is \" + str(total_price)+\"$\")"
   ]
  },
  {
   "cell_type": "code",
   "execution_count": null,
   "metadata": {},
   "outputs": [],
   "source": []
  }
 ],
 "metadata": {
  "kernelspec": {
   "display_name": "Python 3",
   "language": "python",
   "name": "python3"
  },
  "language_info": {
   "codemirror_mode": {
    "name": "ipython",
    "version": 3
   },
   "file_extension": ".py",
   "mimetype": "text/x-python",
   "name": "python",
   "nbconvert_exporter": "python",
   "pygments_lexer": "ipython3",
   "version": "3.7.1"
  }
 },
 "nbformat": 4,
 "nbformat_minor": 2
}
