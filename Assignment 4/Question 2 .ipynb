{
 "cells": [
  {
   "cell_type": "markdown",
   "metadata": {},
   "source": [
    "# Question 2 "
   ]
  },
  {
   "cell_type": "code",
   "execution_count": null,
   "metadata": {},
   "outputs": [
    {
     "name": "stdout",
     "output_type": "stream",
     "text": [
      "Currently we have 3 cities database which is below mentioned \n",
      "\n",
      "Islamabad\n",
      "Karachi\n",
      "Lahore\n"
     ]
    }
   ],
   "source": [
    "cities = {\n",
    "    \"Islamabad\": {\n",
    "        \"country\":\"Pakistan\",\n",
    "        \"population\": \"1.015 million\",\n",
    "        \"fact\": \"Islamabad is the beautiful city name in the World.\",\n",
    "        \"Most Visited\":\"20.05 million\"\n",
    "        },\n",
    "    \n",
    "    \"Karachi\": {\n",
    "        \"country\":\"Pakistan\",\n",
    "        \"population\": \"14.91 million\",\n",
    "        \"fact\": \"Famous for the Food\",\n",
    "        \"Most Visited\":\"50.78 million\"\n",
    "        },\n",
    "    \n",
    "    \"Lahore\": {\n",
    "        \"country\":\"Pakistan\",\n",
    "        \"population\": \"11.13 million\",\n",
    "        \"fact\": \"Lahore is famous for its amazing sights\",\n",
    "        \"Most Visited\":\"45 million\"\n",
    "        \n",
    "        }\n",
    "}\n",
    "print(\"Currently we have 3 cities database which is below mentioned \\n\")\n",
    "for cities_name in cities.keys():\n",
    "    print(cities_name)\n",
    "city =input(\"\\nEnter above mentioned city name to fetch data from  \")\n",
    "flag = False\n",
    "for city_key,city_val in cities.items():\n",
    "    if city_key == city:\n",
    "        flag = True\n",
    "        break\n",
    "if(flag):\n",
    "    print(str(city_key) + \" : \" + str(city_val) )\n",
    "else:\n",
    "    print(\"Right Now we dont have that country.\")"
   ]
  },
  {
   "cell_type": "code",
   "execution_count": null,
   "metadata": {},
   "outputs": [],
   "source": []
  }
 ],
 "metadata": {
  "kernelspec": {
   "display_name": "Python 3",
   "language": "python",
   "name": "python3"
  },
  "language_info": {
   "codemirror_mode": {
    "name": "ipython",
    "version": 3
   },
   "file_extension": ".py",
   "mimetype": "text/x-python",
   "name": "python",
   "nbconvert_exporter": "python",
   "pygments_lexer": "ipython3",
   "version": "3.7.1"
  }
 },
 "nbformat": 4,
 "nbformat_minor": 2
}
