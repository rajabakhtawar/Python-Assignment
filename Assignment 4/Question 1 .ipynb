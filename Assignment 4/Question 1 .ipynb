{
 "cells": [
  {
   "cell_type": "markdown",
   "metadata": {},
   "source": [
    "#  Assignment # 4"
   ]
  },
  {
   "cell_type": "markdown",
   "metadata": {},
   "source": [
    "# Question 1 "
   ]
  },
  {
   "cell_type": "code",
   "execution_count": 1,
   "metadata": {},
   "outputs": [
    {
     "name": "stdout",
     "output_type": "stream",
     "text": [
      "Below mentioned existing dictionary\n",
      "-----------------------------------------\n",
      "\n",
      "first_name : Ahmed\n",
      "last_name : Ali\n",
      "age : 18\n",
      "city : karachi\n",
      "\n",
      "Added new key with value in dictionary from update function\n",
      "-----------------------------------------\n",
      "first_name : Ahmed\n",
      "last_name : Ali\n",
      "age : 18\n",
      "city : karachi\n",
      "qualification : intermedaite\n",
      "\n",
      "Updating the value of qualification key in dictionary\n",
      "-----------------------------------------\n",
      "\n",
      "Currently the value of qualification is intermedaite\n",
      "\n",
      "\t HERE IS THE UPDATED DICTIONARY WITH UPDATED VALUES OF QUALIFICATION.\n",
      "\n",
      "first_name : Ahmed\n",
      "last_name : Ali\n",
      "age : 18\n",
      "city : karachi\n",
      "qualification : B.COM\n",
      "\n",
      "\t DELETED THE KEY OF QUALIFICATION AND BELOW MENTIONED\n",
      "\n",
      "first_name : Ahmed\n",
      "last_name : Ali\n",
      "age : 18\n",
      "city : karachi\n"
     ]
    }
   ],
   "source": [
    "persons ={\n",
    "    \n",
    "    \"first_name\":\"Ahmed\",\n",
    "    \"last_name\":\"Ali\",\n",
    "    \"age\":\"18\",\n",
    "    \"city\":\"karachi\"\n",
    "}\n",
    "\n",
    "def print_dic_values_and_key(dicti_name):\n",
    "    for keys,values in dicti_name.items():\n",
    "        print(keys + \" : \" +values)\n",
    "# Printing type for check type of data \n",
    "#print(type(person))\n",
    "print(\"Below mentioned existing dictionary\\n-----------------------------------------\\n\")  \n",
    "print_dic_values_and_key(persons)  \n",
    "print(\"\\nAdded new key with value in dictionary from update function\\n-----------------------------------------\")\n",
    "persons.update({\"qualification\":\"intermedaite\"})\n",
    "print_dic_values_and_key(persons) \n",
    "print(\"\\nUpdating the value of qualification key in dictionary\\n-----------------------------------------\\n\")\n",
    "print(\"Currently the value of qualification is \"+  persons['qualification'])\n",
    "persons['qualification'] = \"B.COM\"\n",
    "print(\"\\n\\t HERE IS THE UPDATED DICTIONARY WITH UPDATED VALUES OF QUALIFICATION.\\n\")\n",
    "print_dic_values_and_key(persons) \n",
    "del persons['qualification']\n",
    "\n",
    "print(\"\\n\\t DELETED THE KEY OF QUALIFICATION AND BELOW MENTIONED\\n\")\n",
    "\n",
    "print_dic_values_and_key(persons)"
   ]
  },
  {
   "cell_type": "code",
   "execution_count": null,
   "metadata": {},
   "outputs": [],
   "source": []
  }
 ],
 "metadata": {
  "kernelspec": {
   "display_name": "Python 3",
   "language": "python",
   "name": "python3"
  },
  "language_info": {
   "codemirror_mode": {
    "name": "ipython",
    "version": 3
   },
   "file_extension": ".py",
   "mimetype": "text/x-python",
   "name": "python",
   "nbconvert_exporter": "python",
   "pygments_lexer": "ipython3",
   "version": "3.7.1"
  }
 },
 "nbformat": 4,
 "nbformat_minor": 2
}
