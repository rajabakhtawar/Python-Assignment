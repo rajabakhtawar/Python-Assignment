{
 "cells": [
  {
   "cell_type": "markdown",
   "metadata": {},
   "source": [
    "# Question 4 "
   ]
  },
  {
   "cell_type": "code",
   "execution_count": 1,
   "metadata": {},
   "outputs": [
    {
     "name": "stdout",
     "output_type": "stream",
     "text": [
      "Welcome to Read Online Books\n",
      "--------------------------------------------\n",
      "\n",
      "Enter Your Book Name = Jawab e shikwa\n",
      "\n",
      "Thanks for your input here is the details of your provided book name\n",
      "----------------------------------------------\n",
      "\n",
      "Jawab e shikwa {'Author': 'Allam Iqbal', 'Publisher': 'Sang-e-meel Publications', 'Publication date': '10 February 1913.', 'Total Pages ': '120'}\n"
     ]
    }
   ],
   "source": [
    "print(\"Welcome to Read Online Books\\n--------------------------------------------\\n\")\n",
    "book_details = {\n",
    "    \"Jawab e shikwa\": \n",
    "    {\n",
    "        \"Author\":\"Allam Iqbal\",\n",
    "        \"Publisher\": \"Sang-e-meel Publications\",\n",
    "        \"Publication date\": \"10 February 1913.\",\n",
    "        \"Total Pages \":\"120\"\n",
    "    },\n",
    "    \"Aur drame\": \n",
    "    {\n",
    "        \"Author\":\"Ashfaq ahmed\",\n",
    "        \"Publisher\": \"Ali Publishers\",\n",
    "        \"Publication date\": \"1993\",\n",
    "        \"Total Pages \":\"452\"\n",
    "    },\n",
    "    \"The Old Man and the Sea\": \n",
    "    {\n",
    "        \"Author\":\"Ernest Hemingway\",\n",
    "        \"Publisher\": \"Olympia Press\",\n",
    "        \"Publication date\": \"1952\",\n",
    "        \"Total Pages \":\"127\"\n",
    "        \n",
    "    }\n",
    "}\n",
    "input_book_name = input(\"Enter Your Book Name = \")\n",
    "\n",
    "def find_book(input_book_name):\n",
    "    flag = False \n",
    "    for book_key,book_values in book_details.items():\n",
    "        if book_key == input_book_name:\n",
    "            flag =  True\n",
    "            break\n",
    "    if(flag):            \n",
    "        print(\"\\nThanks for your input here is the details of your provided book name\\n----------------------------------------------\\n\")\n",
    "        print(str(book_key) + \" \" + str(book_values) )\n",
    "    else:\n",
    "        print(\"Thanks for your input but \"+ input_book_name +\" not available on store\")    \n",
    "    \n",
    "            \n",
    "find_book(input_book_name)"
   ]
  },
  {
   "cell_type": "code",
   "execution_count": null,
   "metadata": {},
   "outputs": [],
   "source": []
  }
 ],
 "metadata": {
  "kernelspec": {
   "display_name": "Python 3",
   "language": "python",
   "name": "python3"
  },
  "language_info": {
   "codemirror_mode": {
    "name": "ipython",
    "version": 3
   },
   "file_extension": ".py",
   "mimetype": "text/x-python",
   "name": "python",
   "nbconvert_exporter": "python",
   "pygments_lexer": "ipython3",
   "version": "3.7.1"
  }
 },
 "nbformat": 4,
 "nbformat_minor": 2
}
