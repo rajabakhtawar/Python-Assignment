{
 "cells": [
  {
   "cell_type": "markdown",
   "metadata": {},
   "source": [
    "# Question 5 "
   ]
  },
  {
   "cell_type": "code",
   "execution_count": 2,
   "metadata": {},
   "outputs": [
    {
     "name": "stdout",
     "output_type": "stream",
     "text": [
      "WELCOME HERE TO CHECK YOUR LUCK\n",
      "Enter One Number which is between 1 to 30 7\n",
      "Your input is wrong and the random number was 28\n",
      "Enter One Number which is between 1 to 30 25\n",
      "Your input is wrong and the random number was 29\n",
      "Enter One Number which is between 1 to 30 29\n",
      "Your input is wrong and the random number was 4\n",
      "Your total score is 0\n"
     ]
    }
   ],
   "source": [
    "import random \n",
    "print(\"WELCOME HERE TO CHECK YOUR LUCK\")\n",
    "total_score = 0\n",
    "Flag = False\n",
    "for x in range(0,3):\n",
    "    number = random.randint(1, 30)\n",
    "    user_number =input(\"Enter One Number which is between 1 to 30 \")\n",
    "    if  str(user_number) == str(number):\n",
    "        total_score += 10\n",
    "        Flag = True\n",
    "    if(Flag):\n",
    "        print(\"Random Number is generated \" + str(number) + \" and Your number is \"+ str(user_number))\n",
    "        \n",
    "    else:\n",
    "        print(\"Your input is wrong and the random number was \" + str(number))\n",
    "print(\"Your total score is \" + str(total_score))\n"
   ]
  },
  {
   "cell_type": "code",
   "execution_count": null,
   "metadata": {},
   "outputs": [],
   "source": []
  }
 ],
 "metadata": {
  "kernelspec": {
   "display_name": "Python 3",
   "language": "python",
   "name": "python3"
  },
  "language_info": {
   "codemirror_mode": {
    "name": "ipython",
    "version": 3
   },
   "file_extension": ".py",
   "mimetype": "text/x-python",
   "name": "python",
   "nbconvert_exporter": "python",
   "pygments_lexer": "ipython3",
   "version": "3.7.1"
  }
 },
 "nbformat": 4,
 "nbformat_minor": 2
}
