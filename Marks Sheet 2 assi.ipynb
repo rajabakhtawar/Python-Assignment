{
 "cells": [
  {
   "cell_type": "code",
   "execution_count": 3,
   "metadata": {},
   "outputs": [
    {
     "name": "stdout",
     "output_type": "stream",
     "text": [
      "Enter your english Marks = 50\n",
      "Enter your Physics Marks = 50\n",
      "Enter your Chemistry Marks = 50\n",
      "Enter your Maths Marks = 50\n",
      "Enter your Urdu Marks = 50\n",
      "TOTAL MARKS = 500\n",
      "50.0\n",
      "YOUR GRADE IS \n",
      "C\n"
     ]
    }
   ],
   "source": [
    "n1=int(input(\"Enter your english Marks = \"))\n",
    "n2=int(input(\"Enter your Physics Marks = \"))\n",
    "n3=int(input(\"Enter your Chemistry Marks = \"))\n",
    "n4=int(input(\"Enter your Maths Marks = \"))\n",
    "n5=int(input(\"Enter your Urdu Marks = \"))\n",
    "print(\"TOTAL MARKS = 500\")\n",
    "a=n1+n2+n3+n4+n5\n",
    "b=(a/500)*100\n",
    "print(b)\n",
    "print(\"YOUR GRADE IS \")\n",
    "if b >= 80 and b <= 100 :\n",
    "    print(\"A+\")\n",
    "elif b >= 70 and b <= 80 :\n",
    "    print(\"A\")\n",
    "elif b >= 60 and b <= 70 :\n",
    "    print(\"B\")\n",
    "elif b >= 50 and b <= 60 :\n",
    "    print(\"C\")\n",
    "elif b >= 40 and b <= 50 :\n",
    "    print(\"D\")\n",
    "elif b >= 33 and b <= 40 :\n",
    "    print(\"E\")\n",
    "elif b >=0 and b <= 33 :\n",
    "    print(\"F\")\n",
    "else :\n",
    "    print(\"You ARE FAIL\")\n"
   ]
  },
  {
   "cell_type": "code",
   "execution_count": null,
   "metadata": {},
   "outputs": [],
   "source": []
  }
 ],
 "metadata": {
  "kernelspec": {
   "display_name": "Python 3",
   "language": "python",
   "name": "python3"
  },
  "language_info": {
   "codemirror_mode": {
    "name": "ipython",
    "version": 3
   },
   "file_extension": ".py",
   "mimetype": "text/x-python",
   "name": "python",
   "nbconvert_exporter": "python",
   "pygments_lexer": "ipython3",
   "version": "3.7.1"
  }
 },
 "nbformat": 4,
 "nbformat_minor": 2
}
